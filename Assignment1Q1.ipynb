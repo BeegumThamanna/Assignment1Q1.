{
  "nbformat": 4,
  "nbformat_minor": 0,
  "metadata": {
    "colab": {
      "name": "Assignment1Q1.ipynb",
      "provenance": [],
      "collapsed_sections": [],
      "include_colab_link": true
    },
    "kernelspec": {
      "name": "python3",
      "display_name": "Python 3"
    }
  },
  "cells": [
    {
      "cell_type": "markdown",
      "metadata": {
        "id": "view-in-github",
        "colab_type": "text"
      },
      "source": [
        "<a href=\"https://colab.research.google.com/github/BeegumThamanna/Assignment1Q1./blob/main/Assignment1Q1.ipynb\" target=\"_parent\"><img src=\"https://colab.research.google.com/assets/colab-badge.svg\" alt=\"Open In Colab\"/></a>"
      ]
    },
    {
      "cell_type": "markdown",
      "metadata": {
        "id": "TARCY0PfzZVm"
      },
      "source": [
        " **Experiment with 5 List's In-built functions**\r\n",
        "\r\n"
      ]
    },
    {
      "cell_type": "markdown",
      "metadata": {
        "id": "7VMR9vH_wmao"
      },
      "source": [
        "1. append"
      ]
    },
    {
      "cell_type": "code",
      "metadata": {
        "colab": {
          "base_uri": "https://localhost:8080/"
        },
        "id": "f3gBjuGlwWpt",
        "outputId": "8f396e3d-7fc6-4645-dd00-b062e17dd198"
      },
      "source": [
        "List = ['python', 'c++', 'c'] \r\n",
        "List.append('java') \r\n",
        "print(List) "
      ],
      "execution_count": null,
      "outputs": [
        {
          "output_type": "stream",
          "text": [
            "['python', 'c++', 'c', 'java']\n"
          ],
          "name": "stdout"
        }
      ]
    },
    {
      "cell_type": "markdown",
      "metadata": {
        "id": "JODlJ3t2xQWr"
      },
      "source": [
        "2. del"
      ]
    },
    {
      "cell_type": "code",
      "metadata": {
        "colab": {
          "base_uri": "https://localhost:8080/"
        },
        "id": "SITQcs-LxPjk",
        "outputId": "70df84d9-6941-437e-f228-9f29779aef27"
      },
      "source": [
        "List = ['iron','silver','ore',] \r\n",
        "del List[2] \r\n",
        "print(List) "
      ],
      "execution_count": null,
      "outputs": [
        {
          "output_type": "stream",
          "text": [
            "['iron', 'silver']\n"
          ],
          "name": "stdout"
        }
      ]
    },
    {
      "cell_type": "markdown",
      "metadata": {
        "id": "AziJj2uVyIds"
      },
      "source": [
        "3. max"
      ]
    },
    {
      "cell_type": "code",
      "metadata": {
        "colab": {
          "base_uri": "https://localhost:8080/"
        },
        "id": "mtH5m78RyiG9",
        "outputId": "bc2e2d10-5004-46e4-e62b-b2f41427e2f0"
      },
      "source": [
        "c"
      ],
      "execution_count": null,
      "outputs": [
        {
          "output_type": "stream",
          "text": [
            "1000\n"
          ],
          "name": "stdout"
        }
      ]
    },
    {
      "cell_type": "markdown",
      "metadata": {
        "id": "U9OT97BZy7Gx"
      },
      "source": [
        "4. pop"
      ]
    },
    {
      "cell_type": "code",
      "metadata": {
        "colab": {
          "base_uri": "https://localhost:8080/"
        },
        "id": "t1oRtmH0y-XD",
        "outputId": "81a71221-b38e-4d78-9635-d5cfcee6e0c2"
      },
      "source": [
        "List= [60,70,80,90]\r\n",
        "print(List.pop(2)) \r\n"
      ],
      "execution_count": null,
      "outputs": [
        {
          "output_type": "stream",
          "text": [
            "80\n"
          ],
          "name": "stdout"
        }
      ]
    },
    {
      "cell_type": "markdown",
      "metadata": {
        "id": "zi6wCe3fzdqc"
      },
      "source": [
        "5. min"
      ]
    },
    {
      "cell_type": "code",
      "metadata": {
        "colab": {
          "base_uri": "https://localhost:8080/"
        },
        "id": "wzKibQO9zwF6",
        "outputId": "560cd50d-51b1-4af8-a515-dd5eec308975"
      },
      "source": [
        "List = [40, 47, 3, 149, 500,1000] \r\n",
        "print(min(List)) "
      ],
      "execution_count": null,
      "outputs": [
        {
          "output_type": "stream",
          "text": [
            "3\n"
          ],
          "name": "stdout"
        }
      ]
    }
  ]
}